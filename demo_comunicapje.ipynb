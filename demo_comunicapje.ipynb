{
 "cells": [
  {
   "attachments": {},
   "cell_type": "markdown",
   "id": "70d1e12a-5e86-4b78-bcff-3f4b36edda6d",
   "metadata": {},
   "source": [
    "# Etapa 1 - Explorando a API\n",
    "\n",
    "## Todos os parâmetros possíveis:\n",
    "            #Busca por contéudo da publicação\n",
    "            'texto': texto,\n",
    "            #Instituição\n",
    "            'siglaTribunal': sigla_tribunal,\n",
    "            #Órgão (inserir o ID do órgão. Para coletar o ID, inspecionar as páginas de https://comunica.pje.jus.br)\n",
    "            'orgaoId': orgao_id,\n",
    "            #Meio ('E' ou 'D')\n",
    "            'meio': meio,\n",
    "            #Data inicial (em string YYYY-MM-DD)\n",
    "            'dataDisponibilizacaoInicio': data_inicio,\n",
    "            #Data final (em string YYYY-MM-DD)\n",
    "            'dataDisponibilizacaoFim': data_fim,\n",
    "            #Nº de processo\n",
    "            'numeroProcesso': n_processo,\n",
    "            #Nome da parte\n",
    "            'nomeParte': nome_parte,\n",
    "            #Nome do advogado\n",
    "            'nomeAdvogado': nome_adv,\n",
    "            #Nº da OAB\n",
    "            'numeroOab': n_oab,\n",
    "            #UF da OAB\n",
    "            'ufOab': uf_oab,\n",
    "            'pagina': '1',\n",
    "            'itensPorPagina': '5'\n"
   ]
  },
  {
   "cell_type": "markdown",
   "id": "7a456dfe-5ca4-4865-b110-8acae7f0f4b0",
   "metadata": {},
   "source": [
    "# Etapa 2 - Enviando Requisições (Requests) via Python"
   ]
  },
  {
   "cell_type": "markdown",
   "id": "9c98d81e-b832-462d-8661-0693b85f5b9c",
   "metadata": {},
   "source": [
    "## Importação das bibliotecas necessárias\n",
    "\n",
    "**requests** - pacote que simplifica envio de requisições HTTP <br>\n",
    "**json** - utilizada para ler o conteúdo da resposta <br>\n",
    "**time** - utilizada apenas para colocar uma pequena pausa entre os pedidos <br>\n",
    "**math** - utilizada apenas para ajudar no cálculo do número de páginas"
   ]
  },
  {
   "cell_type": "code",
   "execution_count": 2,
   "id": "711a2faf-16f6-4a7f-b2c9-fe33262bdaaa",
   "metadata": {},
   "outputs": [],
   "source": [
    "import requests\n",
    "import json\n",
    "import time\n",
    "import math"
   ]
  },
  {
   "cell_type": "markdown",
   "id": "0cbec85e-f9d5-4884-8551-900e62a80e3a",
   "metadata": {},
   "source": [
    "## Função principal"
   ]
  },
  {
   "cell_type": "code",
   "execution_count": 3,
   "id": "1d80ee38-6f9f-4d2a-b066-cce56df208dd",
   "metadata": {},
   "outputs": [],
   "source": [
    "def captura_comunica_pje(texto=\"\", sigla_tribunal=\"\", orgao_id=\"\", meio=\"\", data_inicio=\"\", data_fim=\"\", n_processo=\"\", nome_parte=\"\",\n",
    "         nome_adv=\"\", n_oab=\"\", uf_oab=\"\"):\n",
    "    #definindo headers similares a de navegador\n",
    "    headers = {'User-Agent': 'Mozilla/5.0 (Windows NT 10.0; Win64; x64) AppleWebKit/537.36 (KHTML, like Gecko) Chrome/126.0.0.0 Safari/537.36',\n",
    "               'Accept': 'application/json, text/plain, */*',\n",
    "               'Accept-Encoding': 'gzip, deflate, br, zstd'}\n",
    "    params = {\n",
    "            #Teor da comunicação\n",
    "            'texto': texto,\n",
    "            #Instituição\n",
    "            'siglaTribunal': sigla_tribunal,\n",
    "            #Órgão (inserir o ID do órgão. Para coletar o ID, inspecionar as páginas de https://comunica.pje.jus.br)\n",
    "            'orgaoId': orgao_id,\n",
    "            #Meio ('E' ou 'D')\n",
    "            'meio': meio,\n",
    "            #Data inicial (em string YYYY-MM-DD)\n",
    "            'dataDisponibilizacaoInicio': data_inicio,\n",
    "            #Data final (em string YYYY-MM-DD)\n",
    "            'dataDisponibilizacaoFim': data_fim,\n",
    "            #Nº de processo\n",
    "            'numeroProcesso': n_processo,\n",
    "            #Nome da parte\n",
    "            'nomeParte': nome_parte,\n",
    "            #Nome do advogado\n",
    "            'nomeAdvogado': nome_adv,\n",
    "            #Nº da OAB\n",
    "            'numeroOab': n_oab,\n",
    "            #UF da OAB\n",
    "            'ufOab': uf_oab,\n",
    "            'pagina': '1',\n",
    "            'itensPorPagina': '5'\n",
    "              }\n",
    "   \n",
    "    #deixando apenas os parâmetros fornecidos, para não enviar os outros como strings vazias\n",
    "    params_filtrados = {k:v for k,v in params.items() if v}\n",
    "    url = 'https://comunicaapi.pje.jus.br/api/v1/comunicacao'\n",
    "    r = requests.get(url=url, auth=('user', 'pass'), headers=headers, params=params_filtrados)\n",
    "    #for key, value in r.request.headers.items():\n",
    "        #print(f\"{key}: {value}\")\n",
    "    data = r.content.decode('utf-8')\n",
    "    data_json = json.loads(data)\n",
    "    #print(data_json['status'])\n",
    "    if data_json['status'] != \"success\":\n",
    "        print(f\"ERRO NA PÁGINA {params['pagina']}\")\n",
    "    count = data_json['count']\n",
    "    print(f\"Número de itens = {count}\")\n",
    "    #são até 5 itens por página, portanto, número de páginas equivale ao 'ceiling' da divisão do n. de itens por 5.\n",
    "    n_paginas = math.ceil(count / 5)\n",
    "    print(f\"Número de páginas = {n_paginas}\")\n",
    "    resultados = []\n",
    "    for item in data_json['items']:\n",
    "        print(item)\n",
    "    for _ in range (2, n_paginas+1):\n",
    "        params_filtrados['pagina'] = f\"{_}\"\n",
    "        r = requests.get(url=url, auth=('user', 'pass'), headers=headers, params=params_filtrados)\n",
    "        #print(r.url)\n",
    "        data = r.content.decode('utf-8')\n",
    "        data_json = json.loads(data)\n",
    "        if data_json['status'] != \"success\":\n",
    "            print(f\"ERRO NA PÁGINA {params['pagina']}\")\n",
    "        for item in data_json['items']:\n",
    "            print(item)\n",
    "        time.sleep(0.5)\n",
    "    return "
   ]
  },
  {
   "cell_type": "markdown",
   "id": "2a7403f3-0471-4e1d-b472-f1e98e29e0bd",
   "metadata": {},
   "source": [
    "## Testando"
   ]
  },
  {
   "cell_type": "code",
   "execution_count": null,
   "id": "e1422363-3c0d-4601-880c-3488afe2343e",
   "metadata": {},
   "outputs": [],
   "source": [
    "captura_comunica_pje(texto=\"\", sigla_tribunal=\"TJMT\", orgao_id=\"\", meio=\"\", data_inicio=\"2025-07-09\", data_fim=\"2025-07-09\", n_processo=\"\", nome_parte=\"\",\n",
    "         nome_adv=\"SAULO NIEDERLE PEREIRA\", n_oab=\"\", uf_oab=\"\")\n"
   ]
  },
  {
   "cell_type": "code",
   "execution_count": null,
   "id": "5cbcd20f-7e64-4b94-8c57-43243c1582e0",
   "metadata": {},
   "outputs": [],
   "source": []
  }
 ],
 "metadata": {
  "kernelspec": {
   "display_name": "Python (RAJ)",
   "language": "python",
   "name": "raj"
  },
  "language_info": {
   "codemirror_mode": {
    "name": "ipython",
    "version": 3
   },
   "file_extension": ".py",
   "mimetype": "text/x-python",
   "name": "python",
   "nbconvert_exporter": "python",
   "pygments_lexer": "ipython3",
   "version": "3.12.11"
  }
 },
 "nbformat": 4,
 "nbformat_minor": 5
}
